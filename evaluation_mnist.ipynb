{
 "cells": [
  {
   "cell_type": "markdown",
   "metadata": {
    "collapsed": true
   },
   "source": [
    "# Example 01: MNIST Demo"
   ]
  },
  {
   "cell_type": "markdown",
   "metadata": {},
   "source": [
    "## (i) Import libraries"
   ]
  },
  {
   "cell_type": "code",
   "execution_count": 2,
   "metadata": {
    "collapsed": true
   },
   "outputs": [],
   "source": [
    "import sys\n",
    "sys.path.append('./../')\n",
    "import matplotlib\n",
    "%matplotlib inline\n",
    "import visualization"
   ]
  },
  {
   "cell_type": "markdown",
   "metadata": {},
   "source": [
    "## (ii) Plot classification accuracy\n",
    "The dotted lines correspond to the epoch number at which the refinement phase started. "
   ]
  },
  {
   "cell_type": "code",
   "execution_count": 7,
   "metadata": {},
   "outputs": [
    {
     "name": "stdout",
     "output_type": "stream",
     "text": [
      "debug: test accuracy = 85.73999786376953\n"
     ]
    }
   ],
   "source": [
    "exp_dir = '/home/hongyu/Projects/SubspaceLearningMachine_SoftTree/experiments/mnist/test_ant_mnist/'\n",
    "models_list = [\"debug\"]\n",
    "\n",
    "records_file_list = [exp_dir + model_name + '/checkpoints/records.pkl' for model_name in models_list]\n",
    "model_files = [exp_dir + model_name + '/checkpoints/model.pth' for model_name in models_list]\n",
    "\n",
    "visualization.plot_performance(records_file_list, models_list, ymax = 3.0, figsize=(10,7), finetune_position=True)\n",
    "visualization.plot_accuracy(records_file_list, models_list, figsize=(10,7), ymin=0, ymax=98, finetune_position=True)"
   ]
  },
  {
   "cell_type": "markdown",
   "metadata": {},
   "source": [
    "## (iii) Compute model size"
   ]
  },
  {
   "cell_type": "code",
   "execution_count": 5,
   "metadata": {},
   "outputs": [
    {
     "name": "stdout",
     "output_type": "stream",
     "text": [
      "\n",
      "Model: debug\n",
      "Number of parameters summary:\n",
      "    Total: 7850 \n",
      "    Max per branch: 7850 \n",
      "    Min per branch: 7850 \n",
      "    Average per branch: 7850.0\n"
     ]
    }
   ],
   "source": [
    "_ = visualization.compute_number_of_params(model_files, models_list, is_gpu=False)"
   ]
  },
  {
   "cell_type": "markdown",
   "metadata": {},
   "source": [
    "## (iv) Visualise the tree structure"
   ]
  },
  {
   "cell_type": "code",
   "execution_count": 6,
   "metadata": {
    "scrolled": false
   },
   "outputs": [
    {
     "ename": "FileNotFoundError",
     "evalue": "[Errno 2] No such file or directory: '/home/hongyu/Projects/SubspaceLearningMachine_SoftTree/experiments/mnist/test_ant_mnist/ant_mnist/figures/'",
     "output_type": "error",
     "traceback": [
      "\u001b[0;31m---------------------------------------------------------------------------\u001b[0m",
      "\u001b[0;31mFileNotFoundError\u001b[0m                         Traceback (most recent call last)",
      "Cell \u001b[0;32mIn[6], line 2\u001b[0m\n\u001b[1;32m      1\u001b[0m fig_dir \u001b[39m=\u001b[39m exp_dir \u001b[39m+\u001b[39m \u001b[39m'\u001b[39m\u001b[39mant_mnist\u001b[39m\u001b[39m'\u001b[39m \u001b[39m+\u001b[39m \u001b[39m'\u001b[39m\u001b[39m/figures/\u001b[39m\u001b[39m'\u001b[39m\n\u001b[0;32m----> 2\u001b[0m visualization\u001b[39m.\u001b[39;49mvisualise_treestructures(fig_dir, figsize\u001b[39m=\u001b[39;49m(\u001b[39m10\u001b[39;49m,\u001b[39m20\u001b[39;49m))\n",
      "File \u001b[0;32m~/Projects/SubspaceLearningMachine_SoftTree/visualization.py:478\u001b[0m, in \u001b[0;36mvisualise_treestructures\u001b[0;34m(fig_dir, figsize, fig_name)\u001b[0m\n\u001b[1;32m    477\u001b[0m \u001b[39mdef\u001b[39;00m \u001b[39mvisualise_treestructures\u001b[39m(fig_dir, figsize\u001b[39m=\u001b[39m(\u001b[39m5\u001b[39m,\u001b[39m5\u001b[39m), fig_name\u001b[39m=\u001b[39m\u001b[39m'\u001b[39m\u001b[39m'\u001b[39m):\n\u001b[0;32m--> 478\u001b[0m     figs_list \u001b[39m=\u001b[39m [f \u001b[39mfor\u001b[39;00m f \u001b[39min\u001b[39;00m os\u001b[39m.\u001b[39;49mlistdir(fig_dir)]\n\u001b[1;32m    479\u001b[0m     figs_list\u001b[39m.\u001b[39msort()\n\u001b[1;32m    481\u001b[0m     \u001b[39m# load and plot\u001b[39;00m\n",
      "\u001b[0;31mFileNotFoundError\u001b[0m: [Errno 2] No such file or directory: '/home/hongyu/Projects/SubspaceLearningMachine_SoftTree/experiments/mnist/test_ant_mnist/ant_mnist/figures/'"
     ]
    }
   ],
   "source": [
    "fig_dir = exp_dir + 'ant_mnist' + '/figures/'\n",
    "visualization.visualize_treestructures(fig_dir, figsize=(10,20))"
   ]
  }
 ],
 "metadata": {
  "kernelspec": {
   "display_name": "pytorch",
   "language": "python",
   "name": "python3"
  },
  "language_info": {
   "codemirror_mode": {
    "name": "ipython",
    "version": 3
   },
   "file_extension": ".py",
   "mimetype": "text/x-python",
   "name": "python",
   "nbconvert_exporter": "python",
   "pygments_lexer": "ipython3",
   "version": "3.10.8"
  }
 },
 "nbformat": 4,
 "nbformat_minor": 2
}
